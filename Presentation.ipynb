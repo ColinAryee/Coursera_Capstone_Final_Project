{
    "nbformat_minor": 1, 
    "cells": [
        {
            "source": "# Brief Presentation to the READ WIDE INITIATIVE\n\n**The data used for this project were the names and geographical locations of high schools in Toronto. The Foursquare API was used to search for high schools in the various neighbourhoods of Toronto along with their geographical coordinates. Once the search wss complete, the high schools geographical coordinates were plotted on the map of Toronto to visualize the clusters of high schools in Toronto.** \n\n**It was observed that the longitudinal and latitudinal coordinates were very close when plotted on a graph. It also turned out that there are a few number of recognised high schools in Toronto. The Foursquare API search gave us only 30 schools. I recommend that you promote the recognition of schools as part of your project. This can make your the task at hand very easy**\n\n**The visualized data showed that the locations of the schools were very close. Therefore, Read Wide will not have a problem reaching out to students in Toronto. However you have to be strategic in choosing this location. The outcome of the data analysis conducted revealed two possible best geographical locations that will reach out to student for which Read wide must take into consideration.**\n\n*The good news is, you don't have to build more than two clubhouses*.\n", 
            "cell_type": "markdown", 
            "metadata": {
                "collapsed": true
            }
        }
    ], 
    "metadata": {
        "kernelspec": {
            "display_name": "Python 3.5", 
            "name": "python3", 
            "language": "python"
        }, 
        "language_info": {
            "mimetype": "text/x-python", 
            "nbconvert_exporter": "python", 
            "version": "3.5.5", 
            "name": "python", 
            "file_extension": ".py", 
            "pygments_lexer": "ipython3", 
            "codemirror_mode": {
                "version": 3, 
                "name": "ipython"
            }
        }
    }, 
    "nbformat": 4
}