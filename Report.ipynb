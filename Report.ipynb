{
    "nbformat_minor": 1, 
    "cells": [
        {
            "source": "**Introduction**\nThe Read Wide Project is a charity organization project that seeks to promote reading of books amongst high school students in Canada. In order to make sure students are reading,  the Read Wide Project has received funding from banks and other financial institutions to set up reading clubs within the neighbourhoods of Toronto  to the facilitate the project. They are to put up clubhouses where students can read and share books with other students.\nHowever, the Read Wide Project coordinators and facilitators are having difficulties in identifying which neighbourhoods to set up their various clubhouses. They have allocated a budget to set up about 50 clubhouses that will reach out to at about 500 high schools and 10,000 students. With the aim of reducing sunk costs of setting up clubhouses  in boroughs that will not reach out to a lot of high schools and students, they have contacted a data scientist to find out which boroughs in Toronto will be most appropriate in setting up the clubhouses.\n\n**Data Description**\nThe data needed for this project are names and geographical locations of high schools in Toronto. The Foursquare API will be used to search for high schools in the various neighbourhoods of Toronto along with their geographical coordinates. Once the search is complete, the high schools geographical coordinates will be plotted on the map of Toronto to visualize the clusters of high schools in Toronto.\nThese clusters will be converted into a two dimensional scatter plot and the K-means method of clustering will be used to cluster the datasets by setting a random number K to the number of clusters that can be visualized in the scatter plot. After this is completed, random K-centroids will be plotted within the clusters of the dataframe to run the K-means algorithm. These locations of K will be the recommendations for where the Read Wide Project clubhouses should be situated.\n\n**Methodology**\nInstalled libraries such as pandas, numpy, requests, matplotlib, folium, and scikitlearn to work with the dataset. First of all the Foursquare API was used to explore high schools in Toronto using the geographical coordinates of Toronto. Requests as used to get the JSON file and the data was cleaned and reduced to only the high school names and their geographical locations. 30 high schools were retrieved on a dataframe using pandas and folium was used to visualize the data on a map. The dataframe was converted to a list and it was observed that the longitudinal and latitudinal coordinates were very close when plotted on a graph.\nAs a result of this, the coordinates were transformed by cubing them to cater for negative vlues. The values became huge therefore they were rescaled to be able to visualize the data using matplotlib. With the intention of using K-means, K was set to two and therefore two random points were plotted on the scatterplot. The K-means algorithm was used to run 4 iterations on the dataset to find the best two mean points on the scatter plot. After this, a random, seed was used to generate a scatter plot to visualize the clusters well. Two clusters were generated from the plot. The K-means algorithm was then used to generate the centers for these two clusters. \nThe intention of this, was to estimate the best geographical locations to set up the reading clubhouses and the coordinates was given by the algorithm. \n\n**Results and Recommendations**\nThe visualized data showed that the locations of the schools were very close. Therefore, Read Wide will not have a problem reaching out to students in Toronto. However they have to be strategic in choosing this location. The outcome of the data analysis conducted revealed two possible best geographical locations that will reach out to student for which Read wide must take into consideration.\nAs a result of this, Read Wide can reduce the budgeted number of clubhouses to two in Toronto. This will enable them to save some more money to focus on the other parts of Canada. Since they are only two clubhouses I recommend, Read Wide should make these clubhouses huge and spacious so as to be able to accommodate the student population in Toronto. \n\n", 
            "cell_type": "markdown", 
            "metadata": {
                "collapsed": true
            }
        }
    ], 
    "metadata": {
        "kernelspec": {
            "display_name": "Python 3.5", 
            "name": "python3", 
            "language": "python"
        }, 
        "language_info": {
            "mimetype": "text/x-python", 
            "nbconvert_exporter": "python", 
            "version": "3.5.5", 
            "name": "python", 
            "file_extension": ".py", 
            "pygments_lexer": "ipython3", 
            "codemirror_mode": {
                "version": 3, 
                "name": "ipython"
            }
        }
    }, 
    "nbformat": 4
}